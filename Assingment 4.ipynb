{
 "cells": [
  {
   "cell_type": "markdown",
   "id": "6f689c0c",
   "metadata": {},
   "source": [
    "# Write a python program to create a lambda function that adds 25 to a given number passed in as an argument."
   ]
  },
  {
   "cell_type": "code",
   "execution_count": null,
   "id": "7298aa03",
   "metadata": {},
   "outputs": [],
   "source": [
    "solution:"
   ]
  },
  {
   "cell_type": "code",
   "execution_count": 3,
   "id": "59854b50",
   "metadata": {},
   "outputs": [
    {
     "name": "stdout",
     "output_type": "stream",
     "text": [
      "35\n"
     ]
    }
   ],
   "source": [
    "f1=lambda a: a+25\n",
    "print(f1(10))"
   ]
  },
  {
   "cell_type": "raw",
   "id": "0322d852",
   "metadata": {},
   "source": [
    "# Write a python program to triple all numbers of a given list of integers .Use python map."
   ]
  },
  {
   "cell_type": "code",
   "execution_count": 7,
   "id": "88da4610",
   "metadata": {},
   "outputs": [
    {
     "name": "stdout",
     "output_type": "stream",
     "text": [
      "numbers in a list:  (1, 2, 3, 4, 5)\n",
      "[3, 6, 9, 12, 15]\n"
     ]
    }
   ],
   "source": [
    "number=(1,2,3,4,5)\n",
    "print(\"numbers in a list: \",number)\n",
    "result = map(lambda x: x*3,number)\n",
    "print(list(result))"
   ]
  },
  {
   "cell_type": "markdown",
   "id": "d04e017e",
   "metadata": {},
   "source": [
    "# Write a python program to square the elements of a list using map() function."
   ]
  },
  {
   "cell_type": "code",
   "execution_count": 10,
   "id": "3816b285",
   "metadata": {},
   "outputs": [
    {
     "name": "stdout",
     "output_type": "stream",
     "text": [
      "list of numbers:  [1, 2, 3, 4, 5, 6, 7, 8, 9, 10]\n",
      "square of the list : \n",
      "[1, 4, 9, 16, 25, 36, 49, 64, 81, 100]\n"
     ]
    }
   ],
   "source": [
    "def square(n):\n",
    "    return n**2\n",
    "number=[1,2,3,4,5,6,7,8,9,10]\n",
    "print(\"list of numbers: \",number)\n",
    "result=map(square,number)\n",
    "print(\"square of the list : \")\n",
    "print(list(result))"
   ]
  },
  {
   "cell_type": "code",
   "execution_count": null,
   "id": "19e4f5d3",
   "metadata": {},
   "outputs": [],
   "source": []
  },
  {
   "cell_type": "code",
   "execution_count": null,
   "id": "58b7b103",
   "metadata": {},
   "outputs": [],
   "source": []
  },
  {
   "cell_type": "code",
   "execution_count": null,
   "id": "be0a326f",
   "metadata": {},
   "outputs": [],
   "source": []
  },
  {
   "cell_type": "code",
   "execution_count": null,
   "id": "210dbd5d",
   "metadata": {},
   "outputs": [],
   "source": []
  }
 ],
 "metadata": {
  "kernelspec": {
   "display_name": "Python 3 (ipykernel)",
   "language": "python",
   "name": "python3"
  },
  "language_info": {
   "codemirror_mode": {
    "name": "ipython",
    "version": 3
   },
   "file_extension": ".py",
   "mimetype": "text/x-python",
   "name": "python",
   "nbconvert_exporter": "python",
   "pygments_lexer": "ipython3",
   "version": "3.9.13"
  }
 },
 "nbformat": 4,
 "nbformat_minor": 5
}
